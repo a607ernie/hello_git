{
 "cells": [
  {
   "cell_type": "code",
   "execution_count": 4,
   "metadata": {},
   "outputs": [
    {
     "name": "stdout",
     "output_type": "stream",
     "text": [
      "Successfully downloaded file to ./data/raw/HA1.csv\n",
      "Successfully downloaded file to ./data/raw/HA2.csv\n",
      "Successfully downloaded file to ./data/raw/S1.csv\n",
      "Successfully downloaded file to ./data/raw/S2.csv\n"
     ]
    }
   ],
   "source": [
    "import os\n",
    "import requests\n",
    "\n",
    "def download_file_from_dropbox(dataset):\n",
    "\tdropbox_url = ''\n",
    "\toutput_path = f'./data/raw/{dataset}.csv'\n",
    "\n",
    "\tif dataset == 'HA1' :dropbox_url = 'https://www.dropbox.com/scl/fi/rca8r7j4mzsomvfzhsozi/HA1.csv?rlkey=m7n6sj9xkrky7g21xlpwb3rn5&st=cbd2ve68&dl=1'  # 確保使用 dl=1 來觸發直接下載\n",
    "\telif dataset == 'HA2' :dropbox_url = 'https://www.dropbox.com/scl/fi/e2mmbcf69a0m5n0u6j7z5/HA2.csv?rlkey=emldcicelk7enzz5li5a03gs9&st=3nbpen1p&dl=1'\n",
    "\telif dataset == 'S1':dropbox_url = 'https://www.dropbox.com/scl/fi/q1xxgfs9wcs4gck1d1v6z/S1.csv?rlkey=tlawfzn9fs5hc02bzo5pnbp5p&st=fkybptjp&dl=1'\n",
    "\telif dataset == 'S2':dropbox_url = 'https://www.dropbox.com/scl/fi/n27bdclqvtjh8gl9d2a0l/S2.csv?rlkey=a7o50o8u4gwlxqoy8rgt2mdab&st=6qlutlj1&dl=1'\n",
    "\n",
    "\t# 檢查目標目錄是否存在，不存在則創建\n",
    "\tos.makedirs(os.path.dirname(output_path), exist_ok=True)\n",
    "\t\n",
    "\t# 下載文件\n",
    "\tresponse = requests.get(dropbox_url, stream=True)\n",
    "\tif response.status_code == 200:\n",
    "\t\twith open(output_path, 'wb') as f:\n",
    "\t\t\tfor chunk in response.iter_content(chunk_size=8192):\n",
    "\t\t\t\tf.write(chunk)\n",
    "\t\tprint(f'Successfully downloaded file to {output_path}')\n",
    "\telse:\n",
    "\t\tprint(f'Failed to download file. Status code: {response.status_code}')\n",
    "\n",
    "if __name__ == \"__main__\":\n",
    "\n",
    "\t# datasets = ['HA2'] # add more!!\n",
    "\tdatasets = ['HA1','HA2','S1','S2'] # add more!!\n",
    "\t\n",
    "\tfor dataset in datasets:download_file_from_dropbox(dataset)\n"
   ]
  },
  {
   "cell_type": "code",
   "execution_count": 4,
   "metadata": {},
   "outputs": [
    {
     "name": "stdout",
     "output_type": "stream",
     "text": [
      "1.1964285714285714\n",
      "50.25\n",
      "[42, 50, 46, 50]\n",
      "188\n",
      "0 類別: 940\n",
      "total = 1128\n"
     ]
    }
   ],
   "source": [
    "import numpy as np\n",
    "# 類別的數據數量\n",
    "# categories = [100,40,48,53]\n",
    "# categories = [95, 47, 85, 71]\n",
    "# categories = [67,41,45,48]\n",
    "categories = [42,56,46,57]\n",
    "\n",
    "# 找出最小的樣本數量\n",
    "min_samples = min(categories)\n",
    "\n",
    "# 計算每個類別相對於最小樣本數量的比例\n",
    "ratios = [category / min_samples for category in categories]\n",
    "\n",
    "# 計算比例的總和和平均值\n",
    "total_ratio = sum(ratios)\n",
    "average_ratio = total_ratio / len(ratios)\n",
    "if average_ratio > 1.7:average_ratio = 1.5\n",
    "print(average_ratio)\n",
    "\n",
    "\n",
    "# 計算每個類別應取的樣本數量，應小於此值\n",
    "limit_counts = average_ratio * min_samples\n",
    "print(limit_counts)\n",
    "# sample_counts = [int(ratio * min_samples / average_ratio) for ratio in ratios]\n",
    "# 檢查每個類別的樣本數量，如果大於 limit_counts，則設定為 limit_counts\n",
    "final_sample_counts = [min(count, int(limit_counts)) for count in categories]\n",
    "\n",
    "print(final_sample_counts)\n",
    "total_count = np.sum(np.array(final_sample_counts))\n",
    "print(total_count)\n",
    "\n",
    "ratio_0 = 5\n",
    "print(f\"0 類別: {total_count*ratio_0}\")\n",
    "print(f\"total = {total_count*ratio_0 + total_count}\")\n",
    "# 確保至少取到最小樣本數量\n",
    "# sample_counts = [max(count, min_samples) for count in sample_counts]\n",
    "\n",
    "# sample_counts\n"
   ]
  },
  {
   "cell_type": "code",
   "execution_count": null,
   "metadata": {},
   "outputs": [],
   "source": []
  },
  {
   "cell_type": "code",
   "execution_count": null,
   "metadata": {},
   "outputs": [],
   "source": []
  }
 ],
 "metadata": {
  "kernelspec": {
   "display_name": "torch_env",
   "language": "python",
   "name": "python3"
  },
  "language_info": {
   "codemirror_mode": {
    "name": "ipython",
    "version": 3
   },
   "file_extension": ".py",
   "mimetype": "text/x-python",
   "name": "python",
   "nbconvert_exporter": "python",
   "pygments_lexer": "ipython3",
   "version": "3.10.13"
  }
 },
 "nbformat": 4,
 "nbformat_minor": 2
}
